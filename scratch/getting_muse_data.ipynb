{
 "cells": [
  {
   "cell_type": "markdown",
   "metadata": {},
   "source": [
    "# Getting muse data"
   ]
  },
  {
   "cell_type": "markdown",
   "metadata": {},
   "source": [
    "## General Notes"
   ]
  },
  {
   "cell_type": "markdown",
   "metadata": {},
   "source": [
    "*To play around with the scripts purely within a notebook:*"
   ]
  },
  {
   "cell_type": "markdown",
   "metadata": {},
   "source": [
    "First remember to start `muse-lsl.py` in a separate terminal. Then: "
   ]
  },
  {
   "cell_type": "markdown",
   "metadata": {},
   "source": [
    "a) Load the template (windows) script"
   ]
  },
  {
   "cell_type": "code",
   "execution_count": null,
   "metadata": {},
   "outputs": [],
   "source": [
    "# %load jg_record_generate_SSVEP.bat"
   ]
  },
  {
   "cell_type": "markdown",
   "metadata": {},
   "source": [
    "b) Modify with something like:"
   ]
  },
  {
   "cell_type": "markdown",
   "metadata": {},
   "source": [
    "```\n",
    "%%writefile tester.bat\n",
    "\n",
    "start python C:\\Users\\John\\GitBash\\muse-lsl\\stimulus_presentation\\generate_SSVEP.py -d 10\n",
    "start python C:\\Users\\John\\GitBash\\muse-lsl\\lsl-record.py -d 10 -f \"tester.csv\"\n",
    "```"
   ]
  },
  {
   "cell_type": "markdown",
   "metadata": {},
   "source": [
    "c) run with the following:"
   ]
  },
  {
   "cell_type": "code",
   "execution_count": 17,
   "metadata": {},
   "outputs": [
    {
     "name": "stdout",
     "output_type": "stream",
     "text": [
      "\n",
      "(base) C:\\Users\\John\\GitBash\\eeg-notebooks\\scratch>start python C:\\Users\\John\\GitBash\\muse-lsl\\stimulus_presentation\\generate_SSVEP.py -d 10 \n",
      "\n",
      "(base) C:\\Users\\John\\GitBash\\eeg-notebooks\\scratch>start python C:\\Users\\John\\GitBash\\muse-lsl\\lsl-record.py -d 10 -f \"tester.csv\" \n"
     ]
    }
   ],
   "source": [
    "! tester.bat"
   ]
  },
  {
   "cell_type": "code",
   "execution_count": 14,
   "metadata": {},
   "outputs": [],
   "source": [
    "! start tester.bat"
   ]
  },
  {
   "cell_type": "markdown",
   "metadata": {},
   "source": [
    "d) look at the data"
   ]
  },
  {
   "cell_type": "code",
   "execution_count": 19,
   "metadata": {},
   "outputs": [],
   "source": [
    "import pandas as pd"
   ]
  },
  {
   "cell_type": "code",
   "execution_count": 20,
   "metadata": {},
   "outputs": [],
   "source": [
    "df = pd.read_csv('tester.csv')"
   ]
  },
  {
   "cell_type": "code",
   "execution_count": 22,
   "metadata": {},
   "outputs": [
    {
     "data": {
      "text/html": [
       "<div>\n",
       "<style scoped>\n",
       "    .dataframe tbody tr th:only-of-type {\n",
       "        vertical-align: middle;\n",
       "    }\n",
       "\n",
       "    .dataframe tbody tr th {\n",
       "        vertical-align: top;\n",
       "    }\n",
       "\n",
       "    .dataframe thead th {\n",
       "        text-align: right;\n",
       "    }\n",
       "</style>\n",
       "<table border=\"1\" class=\"dataframe\">\n",
       "  <thead>\n",
       "    <tr style=\"text-align: right;\">\n",
       "      <th></th>\n",
       "      <th>timestamps</th>\n",
       "      <th>TP9</th>\n",
       "      <th>AF7</th>\n",
       "      <th>AF8</th>\n",
       "      <th>TP10</th>\n",
       "      <th>Right AUX</th>\n",
       "      <th>Marker0</th>\n",
       "    </tr>\n",
       "  </thead>\n",
       "  <tbody>\n",
       "    <tr>\n",
       "      <th>0</th>\n",
       "      <td>8257.380</td>\n",
       "      <td>26.855</td>\n",
       "      <td>-51.270</td>\n",
       "      <td>953.613</td>\n",
       "      <td>545.410</td>\n",
       "      <td>-5.859</td>\n",
       "      <td>0</td>\n",
       "    </tr>\n",
       "    <tr>\n",
       "      <th>1</th>\n",
       "      <td>8257.384</td>\n",
       "      <td>541.504</td>\n",
       "      <td>-382.812</td>\n",
       "      <td>409.668</td>\n",
       "      <td>131.348</td>\n",
       "      <td>-61.035</td>\n",
       "      <td>0</td>\n",
       "    </tr>\n",
       "    <tr>\n",
       "      <th>2</th>\n",
       "      <td>8257.388</td>\n",
       "      <td>190.918</td>\n",
       "      <td>-762.207</td>\n",
       "      <td>-140.625</td>\n",
       "      <td>-403.809</td>\n",
       "      <td>-55.664</td>\n",
       "      <td>0</td>\n",
       "    </tr>\n",
       "    <tr>\n",
       "      <th>3</th>\n",
       "      <td>8257.392</td>\n",
       "      <td>-385.254</td>\n",
       "      <td>-573.730</td>\n",
       "      <td>239.258</td>\n",
       "      <td>-76.172</td>\n",
       "      <td>-6.836</td>\n",
       "      <td>0</td>\n",
       "    </tr>\n",
       "    <tr>\n",
       "      <th>4</th>\n",
       "      <td>8257.396</td>\n",
       "      <td>-148.438</td>\n",
       "      <td>-51.270</td>\n",
       "      <td>927.246</td>\n",
       "      <td>489.258</td>\n",
       "      <td>9.277</td>\n",
       "      <td>0</td>\n",
       "    </tr>\n",
       "  </tbody>\n",
       "</table>\n",
       "</div>"
      ],
      "text/plain": [
       "   timestamps      TP9      AF7      AF8     TP10  Right AUX  Marker0\n",
       "0    8257.380   26.855  -51.270  953.613  545.410     -5.859        0\n",
       "1    8257.384  541.504 -382.812  409.668  131.348    -61.035        0\n",
       "2    8257.388  190.918 -762.207 -140.625 -403.809    -55.664        0\n",
       "3    8257.392 -385.254 -573.730  239.258  -76.172     -6.836        0\n",
       "4    8257.396 -148.438  -51.270  927.246  489.258      9.277        0"
      ]
     },
     "execution_count": 22,
     "metadata": {},
     "output_type": "execute_result"
    }
   ],
   "source": [
    "df.head()"
   ]
  },
  {
   "cell_type": "markdown",
   "metadata": {},
   "source": [
    "*note*: \n",
    "    \n",
    "I've observed that sometimes this seems to stop working (lsl record process doesn't stop). This seems to be due to either too many simultaneous runs, and/or a process running and not finishing (for some reason) that needs to be stopped (by closing the window). "
   ]
  },
  {
   "cell_type": "markdown",
   "metadata": {},
   "source": [
    "## Check electrodes with the viewer"
   ]
  },
  {
   "cell_type": "code",
   "execution_count": 33,
   "metadata": {},
   "outputs": [],
   "source": [
    "# this doesn't quite work\n",
    "# ! python C:\\Users\\John\\GitBash\\muse-lsl\\lsl-viewer.py    \n",
    "# looks like need to give the right command to launch a separate terminal"
   ]
  },
  {
   "cell_type": "markdown",
   "metadata": {},
   "source": [
    "## Get data"
   ]
  },
  {
   "cell_type": "code",
   "execution_count": 23,
   "metadata": {},
   "outputs": [
    {
     "name": "stdout",
     "output_type": "stream",
     "text": [
      "Writing temp_gendata.bat\n"
     ]
    }
   ],
   "source": [
    "%%writefile temp_gendata.bat\n",
    "\n",
    "start python C:\\Users\\John\\GitBash\\muse-lsl\\stimulus_presentation\\generate_SSVEP.py -d 120\n",
    "start python C:\\Users\\John\\GitBash\\muse-lsl\\lsl-record.py -d 120 -f \"temp_gendata_SSVEP_d120.csv\""
   ]
  },
  {
   "cell_type": "code",
   "execution_count": null,
   "metadata": {},
   "outputs": [],
   "source": [
    "#%load temp_gendata.bat"
   ]
  },
  {
   "cell_type": "markdown",
   "metadata": {},
   "source": [
    "(btw tried doing these as separate notebook cells; doesn't seem to work. won't start separate processes. waits for first to finish. same issue as I was having running from terminal; which is why went for the scripts option)"
   ]
  },
  {
   "cell_type": "code",
   "execution_count": null,
   "metadata": {},
   "outputs": [],
   "source": []
  },
  {
   "cell_type": "code",
   "execution_count": null,
   "metadata": {},
   "outputs": [],
   "source": []
  }
 ],
 "metadata": {
  "kernelspec": {
   "display_name": "Python 2",
   "language": "python",
   "name": "python2"
  },
  "language_info": {
   "codemirror_mode": {
    "name": "ipython",
    "version": 2
   },
   "file_extension": ".py",
   "mimetype": "text/x-python",
   "name": "python",
   "nbconvert_exporter": "python",
   "pygments_lexer": "ipython2",
   "version": "2.7.14"
  }
 },
 "nbformat": 4,
 "nbformat_minor": 2
}
