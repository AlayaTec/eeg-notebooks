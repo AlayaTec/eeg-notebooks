{
 "cells": [
  {
   "cell_type": "code",
   "execution_count": 4,
   "metadata": {
    "inputHidden": false,
    "outputHidden": false
   },
   "outputs": [
    {
     "name": "stdout",
     "output_type": "stream",
     "text": [
      "Using matplotlib backend: Qt5Agg\n"
     ]
    }
   ],
   "source": [
    "from muselsl import stream, list_muses, view\n",
    "from multiprocessing import set_start_method, Process\n",
    "from time import sleep\n",
    "%matplotlib"
   ]
  },
  {
   "cell_type": "code",
   "execution_count": 5,
   "metadata": {
    "inputHidden": false,
    "outputHidden": false
   },
   "outputs": [
    {
     "name": "stdout",
     "output_type": "stream",
     "text": [
      "Searching for Muses, this may take up to 10 seconds...\n",
      "Found device Muse-1E0A, MAC Address 00:55:DA:B0:1E:0A\n"
     ]
    },
    {
     "data": {
      "text/plain": [
       "[{'address': '00:55:DA:B0:1E:0A', 'name': 'Muse-1E0A'}]"
      ]
     },
     "execution_count": 5,
     "metadata": {},
     "output_type": "execute_result"
    }
   ],
   "source": [
    "list_muses()"
   ]
  },
  {
   "cell_type": "code",
   "execution_count": 7,
   "metadata": {},
   "outputs": [
    {
     "name": "stdout",
     "output_type": "stream",
     "text": [
      "Connected.\n",
      "Streaming...\n",
      "Looking for an EEG stream...\n",
      "Start acquiring data.\n",
      "Disconnected.\n"
     ]
    }
   ],
   "source": [
    "stream_process = Process(target=stream, args=('00:55:DA:B0:1E:0A',))\n",
    "view_process = Process(target=view)\n",
    "\n",
    "stream_process.start()\n",
    "sleep(20)\n",
    "view_process.start()\n",
    "\n"
   ]
  },
  {
   "cell_type": "code",
   "execution_count": null,
   "metadata": {},
   "outputs": [],
   "source": []
  }
 ],
 "metadata": {
  "kernel_info": {
   "name": "python3"
  },
  "kernelspec": {
   "display_name": "Python (mne)",
   "language": "python",
   "name": "mne"
  },
  "language_info": {
   "codemirror_mode": {
    "name": "ipython",
    "version": 3
   },
   "file_extension": ".py",
   "mimetype": "text/x-python",
   "name": "python",
   "nbconvert_exporter": "python",
   "pygments_lexer": "ipython3",
   "version": "3.5.5"
  },
  "nteract": {
   "version": "0.8.4"
  }
 },
 "nbformat": 4,
 "nbformat_minor": 4
}
