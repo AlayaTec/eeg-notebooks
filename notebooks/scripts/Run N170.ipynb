{
 "cells": [
  {
   "cell_type": "code",
   "execution_count": 1,
   "metadata": {
    "inputHidden": false,
    "outputHidden": false
   },
   "outputs": [
    {
     "ename": "ImportError",
     "evalue": "No module named 'experiments'",
     "output_type": "error",
     "traceback": [
      "\u001b[0;31m---------------------------------------------------------------------------\u001b[0m",
      "\u001b[0;31mImportError\u001b[0m                               Traceback (most recent call last)",
      "\u001b[0;32m<ipython-input-1-2826cf660060>\u001b[0m in \u001b[0;36m<module>\u001b[0;34m()\u001b[0m\n\u001b[1;32m     10\u001b[0m \u001b[0;32mfrom\u001b[0m \u001b[0mmultiprocessing\u001b[0m \u001b[0;32mimport\u001b[0m \u001b[0mProcess\u001b[0m\u001b[0;34m\u001b[0m\u001b[0m\n\u001b[1;32m     11\u001b[0m \u001b[0;34m\u001b[0m\u001b[0m\n\u001b[0;32m---> 12\u001b[0;31m \u001b[0;32mfrom\u001b[0m \u001b[0mexperiments\u001b[0m\u001b[0;34m.\u001b[0m\u001b[0mstimulus_presentation\u001b[0m \u001b[0;32mimport\u001b[0m \u001b[0mgenerate_N170\u001b[0m\u001b[0;34m\u001b[0m\u001b[0m\n\u001b[0m",
      "\u001b[0;31mImportError\u001b[0m: No module named 'experiments'"
     ]
    }
   ],
   "source": [
    "from time import time, strftime, gmtime\n",
    "import os\n",
    "import numpy as np\n",
    "from glob import glob\n",
    "from random import choice\n",
    "from pandas import DataFrame\n",
    "from psychopy import visual, core, event\n",
    "from pylsl import StreamInfo, StreamOutlet, local_clock\n",
    "from muselsl import record\n",
    "from multiprocessing import Process\n",
    "\n",
    "from experiments.stimulus_presentation import generate_N170"
   ]
  },
  {
   "cell_type": "markdown",
   "metadata": {
    "inputHidden": false,
    "outputHidden": false
   },
   "source": [
    "# N170\n",
    "\n",
    "This notebook will run an N170 experiment to analyze potentials related to face detection.\n",
    "\n",
    "A series of faces and houses will be presented. The task is to mentally note whether a \"face\" or a \"house\" was presentedm. "
   ]
  },
  {
   "cell_type": "code",
   "execution_count": 2,
   "metadata": {
    "inputHidden": false,
    "outputHidden": false
   },
   "outputs": [],
   "source": [
    "# Modify these parameters \n",
    "duration = 120\n",
    "subject = '3'\n",
    "session = '3'"
   ]
  },
  {
   "cell_type": "code",
   "execution_count": 21,
   "metadata": {
    "inputHidden": false,
    "outputHidden": false
   },
   "outputs": [],
   "source": [
    "def generate_N170(duration):\n",
    "    info = StreamInfo('Markers', 'Markers', 1, 0, 'int32', 'myuidw43536')\n",
    "    outlet = StreamOutlet(info)\n",
    "\n",
    "    markernames = [1, 2]\n",
    "    start = time()\n",
    "\n",
    "    # Set up trial parameters\n",
    "    n_trials = 2010\n",
    "    iti = 0.3\n",
    "    soa = 0.2\n",
    "    jitter = 0.2\n",
    "    record_duration = np.float32(duration)\n",
    "\n",
    "    # Setup trial list\n",
    "    image_type = np.random.binomial(1, 0.5, n_trials)\n",
    "    trials = DataFrame(dict(image_type=image_type,\n",
    "                            timestamp=np.zeros(n_trials)))\n",
    "\n",
    "\n",
    "    # Setup graphics\n",
    "    def load_image(filename):\n",
    "        return visual.ImageStim(win=mywin, image=filename)\n",
    "\n",
    "\n",
    "    mywin = visual.Window([1600, 900], monitor='testMonitor', units='deg', winType='pygame',\n",
    "                          fullscr=True)\n",
    "    faces = list(map(load_image, glob(\n",
    "        os.path.join(os.path.expanduser(\"~\"), \"eeg-notebooks\", 'stimulus_presentation/stim/face_house/faces/*_3.jpg'))))\n",
    "    houses = list(map(load_image, glob(\n",
    "        os.path.join(os.path.expanduser(\"~\"), \"eeg-notebooks\", 'stimulus_presentation/stim/face_house/houses/*.3.jpg'))))\n",
    "\n",
    "    for ii, trial in trials.iterrows():\n",
    "        # Intertrial interval\n",
    "        core.wait(iti + np.random.rand() * jitter)\n",
    "\n",
    "        # Select and display image\n",
    "        label = trials['image_type'].iloc[ii]\n",
    "        image = choice(faces if label == 1 else houses)\n",
    "        image.draw()\n",
    "\n",
    "        # Send marker\n",
    "        timestamp = local_clock()\n",
    "        outlet.push_sample([markernames[label]], timestamp)\n",
    "        mywin.flip()\n",
    "\n",
    "        # offset\n",
    "        core.wait(soa)\n",
    "        mywin.flip()\n",
    "        if len(event.getKeys()) > 0 or (time() - start) > record_duration:\n",
    "            break\n",
    "        event.clearEvents()\n",
    "\n",
    "    # Cleanup\n",
    "    mywin.close()\n"
   ]
  },
  {
   "cell_type": "code",
   "execution_count": 3,
   "metadata": {
    "inputHidden": false,
    "outputHidden": false
   },
   "outputs": [
    {
     "ename": "NameError",
     "evalue": "name 'generate_N170' is not defined",
     "output_type": "error",
     "traceback": [
      "\u001b[0;31m---------------------------------------------------------------------------\u001b[0m",
      "\u001b[0;31mNameError\u001b[0m                                 Traceback (most recent call last)",
      "\u001b[0;32m<ipython-input-3-8ec9a8644a0c>\u001b[0m in \u001b[0;36m<module>\u001b[0;34m()\u001b[0m\n\u001b[1;32m      2\u001b[0m                                               strftime(\"%Y-%m-%d-%H.%M.%S\", gmtime())) + \".csv\")\n\u001b[1;32m      3\u001b[0m \u001b[0;34m\u001b[0m\u001b[0m\n\u001b[0;32m----> 4\u001b[0;31m \u001b[0mstimulus\u001b[0m \u001b[0;34m=\u001b[0m \u001b[0mProcess\u001b[0m\u001b[0;34m(\u001b[0m\u001b[0mtarget\u001b[0m\u001b[0;34m=\u001b[0m\u001b[0mgenerate_N170\u001b[0m\u001b[0;34m,\u001b[0m \u001b[0margs\u001b[0m\u001b[0;34m=\u001b[0m\u001b[0;34m(\u001b[0m\u001b[0mduration\u001b[0m\u001b[0;34m,\u001b[0m\u001b[0;34m)\u001b[0m\u001b[0;34m)\u001b[0m\u001b[0;34m\u001b[0m\u001b[0m\n\u001b[0m\u001b[1;32m      5\u001b[0m \u001b[0mrecording\u001b[0m \u001b[0;34m=\u001b[0m \u001b[0mProcess\u001b[0m\u001b[0;34m(\u001b[0m\u001b[0mtarget\u001b[0m\u001b[0;34m=\u001b[0m\u001b[0mrecord\u001b[0m\u001b[0;34m,\u001b[0m \u001b[0margs\u001b[0m\u001b[0;34m=\u001b[0m\u001b[0;34m(\u001b[0m\u001b[0mduration\u001b[0m\u001b[0;34m,\u001b[0m \u001b[0mrecording_path\u001b[0m\u001b[0;34m)\u001b[0m\u001b[0;34m)\u001b[0m\u001b[0;34m\u001b[0m\u001b[0m\n\u001b[1;32m      6\u001b[0m \u001b[0;34m\u001b[0m\u001b[0m\n",
      "\u001b[0;31mNameError\u001b[0m: name 'generate_N170' is not defined"
     ]
    }
   ],
   "source": [
    "recording_path = os.path.join(os.path.expanduser(\"~\"), \"eeg-notebooks\", \"data\", \"visual\", \"N170\", \"subject\" + subject, \"session\" + session, (\"recording_%s.csv\" %\n",
    "                                              strftime(\"%Y-%m-%d-%H.%M.%S\", gmtime())) + \".csv\")\n",
    "\n",
    "stimulus = Process(target=generate_N170, args=(duration,))\n",
    "recording = Process(target=record, args=(duration, recording_path))\n",
    "\n",
    "stimulus.start()\n",
    "recording.start()"
   ]
  },
  {
   "cell_type": "code",
   "execution_count": null,
   "metadata": {
    "inputHidden": false,
    "outputHidden": false
   },
   "outputs": [],
   "source": []
  }
 ],
 "metadata": {
  "kernel_info": {
   "name": "mne"
  },
  "kernelspec": {
   "display_name": "Python (mne)",
   "language": "python",
   "name": "mne"
  },
  "language_info": {
   "codemirror_mode": {
    "name": "ipython",
    "version": 3
   },
   "file_extension": ".py",
   "mimetype": "text/x-python",
   "name": "python",
   "nbconvert_exporter": "python",
   "pygments_lexer": "ipython3",
   "version": "3.5.5"
  },
  "nteract": {
   "version": "0.8.4"
  }
 },
 "nbformat": 4,
 "nbformat_minor": 4
}
