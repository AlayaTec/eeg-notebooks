{
  "cells": [
    {
      "cell_type": "code",
      "source": [
        "from muselsl import stream, list_muses, view\n",
        "from multiprocessing import set_start_method, Process\n",
        "from time import sleep\n",
        "%matplotlib"
      ],
      "outputs": [],
      "execution_count": null,
      "metadata": {
        "inputHidden": true,
        "outputHidden": true
      }
    },
    {
      "cell_type": "code",
      "source": [
        "muses = list_muses()"
      ],
      "outputs": [],
      "execution_count": null,
      "metadata": {
        "inputHidden": false,
        "outputHidden": false
      }
    },
    {
      "cell_type": "code",
      "source": [
        "stream_process = Process(target=stream, args=(muses[0]['address'],))\n",
        "stream_process.start()"
      ],
      "outputs": [],
      "execution_count": null,
      "metadata": {}
    },
    {
      "cell_type": "code",
      "source": [
        "view()"
      ],
      "outputs": [],
      "execution_count": null,
      "metadata": {}
    }
  ],
  "metadata": {
    "kernel_info": {
      "name": "mne"
    },
    "kernelspec": {
      "name": "mne",
      "language": "python",
      "display_name": "Python (mne)"
    },
    "language_info": {
      "mimetype": "text/x-python",
      "pygments_lexer": "ipython3",
      "nbconvert_exporter": "python",
      "name": "python",
      "codemirror_mode": {
        "name": "ipython",
        "version": 3
      },
      "file_extension": ".py",
      "version": "3.5.5"
    },
    "nteract": {
      "version": "0.8.4"
    }
  },
  "nbformat": 4,
  "nbformat_minor": 4
}