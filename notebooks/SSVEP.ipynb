{
 "cells": [
  {
   "cell_type": "code",
   "execution_count": 2,
   "metadata": {
    "inputHidden": false,
    "outputHidden": false
   },
   "outputs": [],
   "source": [
    "from time import time, strftime, gmtime\n",
    "import os\n",
    "import numpy as np\n",
    "from psychopy import visual, core, event\n",
    "from pylsl import StreamInfo, StreamOutlet\n",
    "from muselsl import record\n",
    "from multiprocessing import Process\n",
    "from stimulus_presentation import ssvep\n",
    "from mne import Epochs, find_events\n",
    "import sys\n",
    "from collections import OrderedDict\n",
    "import seaborn as sns\n",
    "from matplotlib import pyplot as plt\n",
    "import utils"
   ]
  },
  {
   "cell_type": "markdown",
   "metadata": {},
   "source": [
    "# SSVEP\n",
    "\n",
    "This notebook will run an SSVEP to analyze visual evoked potentials. Flashing gratings of two different frequencies will be presented"
   ]
  },
  {
   "cell_type": "markdown",
   "metadata": {},
   "source": [
    "# Step 1: Connect to an EEG Device\n",
    "\n",
    "*Note: if using Windows 10 and BlueMuse, skip this section and connect using the BlueMuse GUI*\n",
    "\n",
    "Make sure your device is turned on and run the following code. It should detect and connect to the device and begin 'Streaming...'\n",
    "\n",
    "If the device is not found or the connection times out, try running this code again"
   ]
  },
  {
   "cell_type": "code",
   "execution_count": null,
   "metadata": {},
   "outputs": [],
   "source": [
    "# Search for available Muse devices\n",
    "muses = list_muses()"
   ]
  },
  {
   "cell_type": "code",
   "execution_count": 2,
   "metadata": {},
   "outputs": [
    {
     "name": "stdout",
     "output_type": "stream",
     "text": [
      "Flickering frequencies (Hz): [30.0, 20.0]\n",
      "\n",
      "17.0287 \tWARNING \tUser requested fullscreen with size [1600  900], but screen is actually [1920, 1080]. Using actual size\n"
     ]
    }
   ],
   "source": [
    "# Start a background process that will stream data from the first available Muse\n",
    "stream_process = Process(target=stream, args=(muses[0]['address'],))\n",
    "stream_process.start()"
   ]
  },
  {
   "cell_type": "markdown",
   "metadata": {},
   "source": [
    "# Step 2: Apply the EEG Device and Wait for Signal Quality to Stabilize\n",
    "Put the Muse on and run the following code to view the raw EEG data stream.\n",
    "\n",
    "The numbers on the side of the graph indicate the variance of the signal. Wait until this decreases below 10 for all electrodes before proceeding."
   ]
  },
  {
   "cell_type": "code",
   "execution_count": null,
   "metadata": {},
   "outputs": [],
   "source": [
    "%matplotlib\n",
    "view()"
   ]
  },
  {
   "cell_type": "markdown",
   "metadata": {},
   "source": [
    "# Step 3: Run the Experiment\n",
    "Modify the variables in the following code chunk to define how long you want to run the experiment and the name of the subject and session you are running. Then, seat the subject in front of the computer and have them quietly view the screen until the experiment is completed."
   ]
  },
  {
   "cell_type": "code",
   "execution_count": 3,
   "metadata": {
    "inputHidden": false,
    "outputHidden": false
   },
   "outputs": [
    {
     "ename": "SyntaxError",
     "evalue": "invalid syntax (<ipython-input-3-d58546923f23>, line 2)",
     "output_type": "error",
     "traceback": [
      "\u001b[0;36m  File \u001b[0;32m\"<ipython-input-3-d58546923f23>\"\u001b[0;36m, line \u001b[0;32m2\u001b[0m\n\u001b[0;31m    duration =\u001b[0m\n\u001b[0m               ^\u001b[0m\n\u001b[0;31mSyntaxError\u001b[0m\u001b[0;31m:\u001b[0m invalid syntax\n"
     ]
    }
   ],
   "source": [
    "# Define these parameters \n",
    "duration = \n",
    "subject = \n",
    "session = "
   ]
  },
  {
   "cell_type": "code",
   "execution_count": null,
   "metadata": {},
   "outputs": [],
   "source": [
    "recording_path = os.path.join(os.path.expanduser(\"~\"), \"eeg-notebooks\", \"data\", \"visual\", \"SSVEP\", \"subject\" + subject, \"session\" + session, (\"recording_%s.csv\" %\n",
    "                                              strftime(\"%Y-%m-%d-%H.%M.%S\", gmtime())) + \".csv\")\n",
    "\n",
    "stimulus = Process(target=ssvep.present, args=(duration,))\n",
    "recording = Process(target=record, args=(duration, recording_path))\n",
    "\n",
    "stimulus.start()\n",
    "recording.start()"
   ]
  },
  {
   "cell_type": "markdown",
   "metadata": {
    "inputHidden": false,
    "outputHidden": false
   },
   "source": [
    "# Step 5: Visualizing in the Frequency Domain\n",
    "\n",
    "## Load data into MNE objects"
   ]
  },
  {
   "cell_type": "code",
   "execution_count": null,
   "metadata": {},
   "outputs": [],
   "source": [
    "raw = utils.load_data('visual/SSVEP', sfreq=256., \n",
    "                      subject_nb=subject, session_nb=session)"
   ]
  },
  {
   "cell_type": "markdown",
   "metadata": {},
   "source": [
    "## Power Spectral Density\n",
    "\n",
    "One way to analyze the SSVEP is to plot the power spectral density, or PSD. SSVEPs should appear as peaks in power for certain frequencies. We expect clear peaks in the spectral domain at the stimulation frequencies of 30 and 20 Hz."
   ]
  },
  {
   "cell_type": "code",
   "execution_count": null,
   "metadata": {},
   "outputs": [],
   "source": [
    "events = find_events(raw)\n",
    "event_id = {'30 Hz': 1, '20 Hz': 2}\n",
    "\n",
    "epochs = Epochs(raw, events=events, event_id=event_id, \n",
    "                tmin=-0.5, tmax=4, baseline=None, preload=True, \n",
    "                verbose=False, picks=[0, 1, 2, 3, 4])"
   ]
  },
  {
   "cell_type": "code",
   "execution_count": null,
   "metadata": {},
   "outputs": [],
   "source": [
    "from mne.time_frequency import psd_welch\n",
    "\n",
    "f, axs = plt.subplots(2, 1, figsize=(10, 10))\n",
    "psd1, freq1 = psd_welch(epochs['30 Hz'], n_fft=1028, n_per_seg=256 * 3)\n",
    "psd2, freq2 = psd_welch(epochs['20 Hz'], n_fft=1028, n_per_seg=256 * 3)\n",
    "psd1 = 10 * np.log10(psd1)\n",
    "psd2 = 10 * np.log10(psd2)\n",
    "\n",
    "psd1_mean = psd1.mean(0)\n",
    "psd1_std = psd1.mean(0)\n",
    "\n",
    "psd2_mean = psd2.mean(0)\n",
    "psd2_std = psd2.mean(0)\n",
    "\n",
    "axs[0].plot(freq1, psd1_mean[[0, 3], :].mean(0), color='b', label='30 Hz')\n",
    "axs[0].plot(freq2, psd2_mean[[0, 3], :].mean(0), color='r', label='20 Hz')\n",
    "\n",
    "axs[1].plot(freq1, psd1_mean[4, :], color='b', label='30 Hz')\n",
    "axs[1].plot(freq2, psd2_mean[4, :], color='r', label='20 Hz')\n",
    "\n",
    "axs[0].set_title('TP9 and TP10')\n",
    "axs[1].set_title('POz')\n",
    "axs[0].set_ylabel('Power Spectral Density (dB)')\n",
    "axs[1].set_ylabel('Power Spectral Density (dB)')\n",
    "axs[0].set_xlim((2, 50))\n",
    "axs[1].set_xlim((2, 50))\n",
    "axs[1].set_xlabel('Frequency (Hz)')\n",
    "axs[0].legend()\n",
    "axs[1].legend()\n",
    "\n",
    "plt.show()"
   ]
  },
  {
   "cell_type": "markdown",
   "metadata": {},
   "source": [
    "## Spectrogram\n",
    "We can also look for SSVEPs in the spectrogram, which uses color to represent the power of frequencies in the EEG signal over time"
   ]
  },
  {
   "cell_type": "code",
   "execution_count": null,
   "metadata": {},
   "outputs": [],
   "source": [
    "from mne.time_frequency import tfr_morlet\n",
    "\n",
    "frequencies = np.logspace(1, 1.75, 60)\n",
    "tfr, itc = tfr_morlet(epochs['30 Hz'], freqs=frequencies, \n",
    "                      n_cycles=15, return_itc=True)\n",
    "tfr.plot(picks=[4], baseline=(-0.5, -0.1), mode='logratio', \n",
    "         title='POz - 30 Hz stim');\n",
    "\n",
    "tfr, itc = tfr_morlet(epochs['20 Hz'], freqs=frequencies, \n",
    "                      n_cycles=15, return_itc=True)\n",
    "tfr.plot(picks=[4], baseline=(-0.5, -0.1), mode='logratio', \n",
    "         title='POz - 20 Hz stim');"
   ]
  },
  {
   "cell_type": "markdown",
   "metadata": {},
   "source": [
    "## Raw Signal\n",
    "\n",
    "Finally, we can see if the SSVEP is visible in the raw EEG signal."
   ]
  },
  {
   "cell_type": "markdown",
   "metadata": {},
   "source": [
    "## Filtering\n",
    "\n",
    "We filter data between 2 and 50 Hz."
   ]
  },
  {
   "cell_type": "code",
   "execution_count": 4,
   "metadata": {},
   "outputs": [
    {
     "ename": "NameError",
     "evalue": "name 'raw' is not defined",
     "output_type": "error",
     "traceback": [
      "\u001b[0;31m---------------------------------------------------------------------------\u001b[0m",
      "\u001b[0;31mNameError\u001b[0m                                 Traceback (most recent call last)",
      "\u001b[0;32m<ipython-input-4-c99616132d5e>\u001b[0m in \u001b[0;36m<module>\u001b[0;34m()\u001b[0m\n\u001b[0;32m----> 1\u001b[0;31m \u001b[0mraw_filt\u001b[0m \u001b[0;34m=\u001b[0m \u001b[0mraw\u001b[0m\u001b[0;34m.\u001b[0m\u001b[0mcopy\u001b[0m\u001b[0;34m(\u001b[0m\u001b[0;34m)\u001b[0m\u001b[0;34m.\u001b[0m\u001b[0mfilter\u001b[0m\u001b[0;34m(\u001b[0m\u001b[0;36m5\u001b[0m\u001b[0;34m,\u001b[0m \u001b[0;36m50\u001b[0m\u001b[0;34m,\u001b[0m \u001b[0mmethod\u001b[0m\u001b[0;34m=\u001b[0m\u001b[0;34m'iir'\u001b[0m\u001b[0;34m)\u001b[0m\u001b[0;34m\u001b[0m\u001b[0m\n\u001b[0m",
      "\u001b[0;31mNameError\u001b[0m: name 'raw' is not defined"
     ]
    }
   ],
   "source": [
    "raw_filt = raw.copy().filter(5, 50, method='iir')"
   ]
  },
  {
   "cell_type": "markdown",
   "metadata": {},
   "source": [
    "## Epoching\n",
    "\n",
    "Here we epoch data for -100ms to 800ms after the stimulus. No baseline correction is needed (signal is bandpass filtered) and we reject every epochs were the signal exceed 75 uV. This mainly rejects blinks."
   ]
  },
  {
   "cell_type": "code",
   "execution_count": null,
   "metadata": {},
   "outputs": [],
   "source": [
    "events = find_events(raw)\n",
    "event_id = {'30 Hz': 1, '20 Hz': 2}\n",
    "\n",
    "epochs = Epochs(raw_filt, events=events, event_id=event_id, \n",
    "                tmin=-0.3, tmax=3, baseline=None,\n",
    "                reject={'eeg': 100e-6}, preload=True, \n",
    "                verbose=False, picks=[0,4,2,3])"
   ]
  },
  {
   "cell_type": "markdown",
   "metadata": {},
   "source": [
    "## Epoch Average"
   ]
  },
  {
   "cell_type": "code",
   "execution_count": null,
   "metadata": {},
   "outputs": [],
   "source": [
    "conditions = OrderedDict()\n",
    "conditions['30 Hz'] = [1]\n",
    "conditions['20 Hz'] = [2]\n",
    "\n",
    "fig, ax = utils.plot_conditions(epochs, conditions=conditions, \n",
    "                                ci=97.5, n_boot=1, title='',\n",
    "                                diff_waveform=None, ylim=(-8, 8))"
   ]
  }
 ],
 "metadata": {
  "kernel_info": {
   "name": "mne"
  },
  "kernelspec": {
   "display_name": "Python (mne)",
   "language": "python",
   "name": "mne"
  },
  "language_info": {
   "codemirror_mode": {
    "name": "ipython",
    "version": 3
   },
   "file_extension": ".py",
   "mimetype": "text/x-python",
   "name": "python",
   "nbconvert_exporter": "python",
   "pygments_lexer": "ipython3",
   "version": "3.5.5"
  },
  "nteract": {
   "version": "0.8.4"
  }
 },
 "nbformat": 4,
 "nbformat_minor": 4
}
