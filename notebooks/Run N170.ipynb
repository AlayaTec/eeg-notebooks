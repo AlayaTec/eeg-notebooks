{
  "cells": [
    {
      "cell_type": "code",
      "source": [
        "from time import time, strftime, gmtime\n",
        "import os\n",
        "import numpy as np\n",
        "from glob import glob\n",
        "from random import choice\n",
        "from pandas import DataFrame\n",
        "from psychopy import visual, core, event\n",
        "from pylsl import StreamInfo, StreamOutlet, local_clock\n",
        "from muselsl import record\n",
        "from multiprocessing import Process"
      ],
      "outputs": [],
      "execution_count": 19,
      "metadata": {
        "collapsed": false,
        "outputHidden": false,
        "inputHidden": false
      }
    },
    {
      "cell_type": "markdown",
      "source": [
        "# N170\n",
        "\n",
        "This notebook will run an N170 experiment to analyze potentials related to face detection.\n",
        "\nA series of faces and houses will be presented. The task is to mentally note whether a \"face\" or a \"house\" was presentedm. "
      ],
      "metadata": {
        "collapsed": false,
        "outputHidden": false,
        "inputHidden": false
      }
    },
    {
      "cell_type": "code",
      "source": [
        "# Modify these parameters \n",
        "duration = 120\n",
        "subject = '3'\n",
        "session = '3'"
      ],
      "outputs": [],
      "execution_count": 20,
      "metadata": {
        "collapsed": false,
        "outputHidden": false,
        "inputHidden": false
      }
    },
    {
      "cell_type": "code",
      "source": [
        "def generate_N170(duration):\n",
        "    info = StreamInfo('Markers', 'Markers', 1, 0, 'int32', 'myuidw43536')\n",
        "    outlet = StreamOutlet(info)\n",
        "\n",
        "    markernames = [1, 2]\n",
        "    start = time()\n",
        "\n",
        "    # Set up trial parameters\n",
        "    n_trials = 2010\n",
        "    iti = 0.3\n",
        "    soa = 0.2\n",
        "    jitter = 0.2\n",
        "    record_duration = np.float32(duration)\n",
        "\n",
        "    # Setup trial list\n",
        "    image_type = np.random.binomial(1, 0.5, n_trials)\n",
        "    trials = DataFrame(dict(image_type=image_type,\n",
        "                            timestamp=np.zeros(n_trials)))\n",
        "\n\n",
        "    # Setup graphics\n",
        "    def load_image(filename):\n",
        "        return visual.ImageStim(win=mywin, image=filename)\n",
        "\n\n",
        "    mywin = visual.Window([1600, 900], monitor='testMonitor', units='deg', winType='pygame',\n",
        "                          fullscr=True)\n",
        "    faces = list(map(load_image, glob(\n",
        "        os.path.join(os.path.expanduser(\"~\"), \"eeg-notebooks\", 'stimulus_presentation/stim/face_house/faces/*_3.jpg'))))\n",
        "    houses = list(map(load_image, glob(\n",
        "        os.path.join(os.path.expanduser(\"~\"), \"eeg-notebooks\", 'stimulus_presentation/stim/face_house/houses/*.3.jpg'))))\n",
        "\n",
        "    for ii, trial in trials.iterrows():\n",
        "        # Intertrial interval\n",
        "        core.wait(iti + np.random.rand() * jitter)\n",
        "\n",
        "        # Select and display image\n",
        "        label = trials['image_type'].iloc[ii]\n",
        "        image = choice(faces if label == 1 else houses)\n",
        "        image.draw()\n",
        "\n",
        "        # Send marker\n",
        "        timestamp = local_clock()\n",
        "        outlet.push_sample([markernames[label]], timestamp)\n",
        "        mywin.flip()\n",
        "\n",
        "        # offset\n",
        "        core.wait(soa)\n",
        "        mywin.flip()\n",
        "        if len(event.getKeys()) > 0 or (time() - start) > record_duration:\n",
        "            break\n",
        "        event.clearEvents()\n",
        "\n",
        "    # Cleanup\n",
        "    mywin.close()\n"
      ],
      "outputs": [],
      "execution_count": 21,
      "metadata": {
        "collapsed": false,
        "outputHidden": false,
        "inputHidden": false
      }
    },
    {
      "cell_type": "code",
      "source": [
        "recording_path = os.path.join(os.path.expanduser(\"~\"), \"eeg-notebooks\", \"data\", \"visual\", \"N170\", \"subject\" + subject, \"session\" + session, (\"recording_%s.csv\" %\n",
        "                                              strftime(\"%Y-%m-%d-%H.%M.%S\", gmtime())) + \".csv\")\n",
        "\n",
        "stimulus = Process(target=generate_N170, args=(duration,))\n",
        "recording = Process(target=record, args=(duration, recording_path))\n",
        "\n",
        "stimulus.start()\n",
        "recording.start()"
      ],
      "outputs": [
        {
          "output_type": "stream",
          "name": "stdout",
          "text": [
            "Looking for an EEG stream...\n",
            "Started acquiring data.\n",
            "Looking for a Markers stream...\n",
            "Start recording at time t=1527624845.432\n",
            "Time correction:  -1.299499945162097e-05\n",
            "682.8710 \tWARNING \tUser requested fullscreen with size [1600  900], but screen is actually [1920, 1080]. Using actual size\n",
            "Time correction:  7.362000360444654e-06\n",
            "Done - wrote file: /home/dano/eeg-notebooks/data/visual/N170/subject3/session3/recording_2018-05-29-20.14.04.csv.csv.\n"
          ]
        }
      ],
      "execution_count": 22,
      "metadata": {
        "collapsed": false,
        "outputHidden": false,
        "inputHidden": false
      }
    },
    {
      "cell_type": "code",
      "source": [],
      "outputs": [],
      "execution_count": null,
      "metadata": {
        "collapsed": false,
        "outputHidden": false,
        "inputHidden": false
      }
    }
  ],
  "metadata": {
    "kernel_info": {
      "name": "mne"
    },
    "kernelspec": {
      "name": "mne",
      "language": "python",
      "display_name": "Python (mne)"
    },
    "language_info": {
      "version": "3.5.5",
      "codemirror_mode": {
        "name": "ipython",
        "version": 3
      },
      "mimetype": "text/x-python",
      "pygments_lexer": "ipython3",
      "name": "python",
      "nbconvert_exporter": "python",
      "file_extension": ".py"
    },
    "nteract": {
      "version": "0.8.4"
    }
  },
  "nbformat": 4,
  "nbformat_minor": 4
}